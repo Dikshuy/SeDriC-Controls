{
 "cells": [
  {
   "cell_type": "code",
   "execution_count": 1,
   "metadata": {},
   "outputs": [],
   "source": [
    "import numpy as np\n",
    "import sys\n",
    "sys.path.append('../../')\n",
    "import do_mpc\n",
    "from casadi import *\n",
    "import matplotlib.pyplot as plt\n",
    "import matplotlib as mpl"
   ]
  },
  {
   "cell_type": "code",
   "execution_count": 3,
   "metadata": {},
   "outputs": [],
   "source": [
    "def control(x_i,i,x,y):\n",
    "    model_type='discrete'\n",
    "    model=do_mpc.model.Model(model_type)\n",
    "    x_0=x_i\n",
    "    J=1000\n",
    "    La=1\n",
    "    Lb=1\n",
    "    m=200\n",
    "    Cy=0.1\n",
    "    t_s=0.1 #sample time\n",
    "    N=50\n",
    "    k=0.01\n",
    "    R=100\n",
    "    #state variables\n",
    "    ψ=model.set_variable(var_type='_x',var_name='ψ',shape=(1,1))\n",
    "    xc=model.set_variable(var_type='_x',var_name='xc',shape=(1,1))\n",
    "    yc=model.set_variable(var_type='_x',var_name='yc',shape=(1,1))\n",
    "    v=model.set_variable(var_type='_x',var_name='v',shape=(1,1))\n",
    "    θ=model.set_variable(var_type='_x',var_name='θ',shape=(1,1))\n",
    "    ϕ=model.set_variable(var_type='_x',var_name='ϕ',shape=(1,1))\n",
    "    δ=model.set_variable(var_type='_x',var_name='δ',shape=(1,1))\n",
    "    a_s=model.set_variable(var_type='_x',var_name='a_s',shape=(1,1))\n",
    "    w_s=model.set_variable(var_type='_x',var_name='w_s',shape=(1,1))\n",
    "    Fyf=Cy*(δ-(La*ϕ)/v)\n",
    "    Fyr=(Cy*Lb*ϕ)/v\n",
    "    #control inputs\n",
    "    a=model.set_variable(var_type='_u',var_name='a',shape=(1,1))\n",
    "    ω=model.set_variable(var_type='_u',var_name='ω',shape=(1,1))\n",
    "    model.set_expression(expr_name='cost', expr=sum1((xc-R+R*np.cos(ψ))**2+(yc-R*np.sin(ψ))**2\n",
    "                                                     +a_s**2+w_s**2+θ**2))\n",
    "    state_now=vertcat(ψ,xc, yc, v, θ, ϕ, δ,a_s,w_s)\n",
    "    B=t_s*vertcat(k,v*np.cos(θ), v*np.sin(θ), a* np.cos(δ)-(2.0/m)*Fyf*np.sin(δ), ϕ,\n",
    "                  (1.0/J)*(La*(m*a*np.sin(δ)+2*Fyf*np.cos(δ))-2*Lb*Fyr), ω,(1/t_s)*(a-a_s),(1/t_s)*(ω-w_s))\n",
    "    state_next=state_now + B\n",
    "    model.set_rhs('ψ',state_next[0])\n",
    "    model.set_rhs('xc',state_next[1])\n",
    "    model.set_rhs('yc',state_next[2])\n",
    "    model.set_rhs('v',state_next[3])\n",
    "    model.set_rhs('θ',state_next[4])\n",
    "    model.set_rhs('ϕ',state_next[5])\n",
    "    model.set_rhs('δ',state_next[6])\n",
    "    model.set_rhs('a_s',state_next[7])\n",
    "    model.set_rhs('w_s',state_next[8])\n",
    "    model.setup()\n",
    "    mpc=do_mpc.controller.MPC(model)\n",
    "    setup_mpc = {\n",
    "        'n_horizon': N,\n",
    "        't_step': t_s,\n",
    "        'n_robust': 0,\n",
    "        'state_discretization':'discrete',\n",
    "        'store_full_solution': True,\n",
    "    }\n",
    "    mpc.set_param(**setup_mpc)\n",
    "    mterm = model.aux['cost']\n",
    "    lterm = model.aux['cost']\n",
    "    mpc.set_objective(mterm=mterm, lterm=lterm)\n",
    "    mpc.set_rterm(a=0.1)\n",
    "    mpc.set_rterm(ω=0.1)\n",
    "    # 'tube' from path planning\n",
    "    #mpc.bounds['lower','_x','xc']=x_i[0]-1e-19\n",
    "    mpc.bounds['lower','_x','yc']=-R-1e-1\n",
    "    mpc.bounds['lower','_x','v']=0 #max reverse speed in m/s\n",
    "    mpc.bounds['lower','_x','θ']=-np.pi-1e-2\n",
    "    #mpc.bounds['lower','_x','ϕ']=-50\n",
    "    mpc.bounds['lower','_x','δ']=-50\n",
    "    #mpc.bounds['upper','_x','xc']=target+5\n",
    "    mpc.bounds['upper','_x','yc']=R+1e-2\n",
    "    mpc.bounds['upper','_x','v']=20 #max forward speed in m/s\n",
    "    mpc.bounds['upper','_x','θ']=np.pi + 1e-2\n",
    "    #mpc.bounds['upper','_x','ϕ']=50\n",
    "    mpc.bounds['upper','_x','δ']=50\n",
    "    mpc.bounds['lower','_u','a']=-10\n",
    "    mpc.bounds['lower','_u','ω']=-10\n",
    "    mpc.bounds['upper','_u','a']=10\n",
    "    mpc.bounds['upper','_u','ω']=10\n",
    "    mpc.bounds['lower','_x','a_s']=-10\n",
    "    mpc.bounds['lower','_x','w_s']=-10\n",
    "    mpc.bounds['upper','_x','a_s']=10\n",
    "    mpc.bounds['upper','_x','w_s']=10\n",
    "    mpc.setup()\n",
    "    #estimator=do_mpc.estimator.StateFeedback(model)\n",
    "    simulator = do_mpc.simulator.Simulator(model)\n",
    "    simulator.set_param(t_step = t_s)\n",
    "    simulator.setup()\n",
    "    mpc.x0 = x_0\n",
    "    simulator.x0 = x_0\n",
    "    mpc.u0['a']=x_0[-2]\n",
    "    mpc.u0['ω']=x_0[-1]\n",
    "    mpc.set_initial_guess()\n",
    "    '''\n",
    "    if i==100:\n",
    "        mpl.rcParams['font.size'] = 18\n",
    "        mpl.rcParams['lines.linewidth'] = 3\n",
    "        mpl.rcParams['axes.grid'] = True\n",
    "        mpc_graphics=do_mpc.graphics.Graphics(mpc.data)\n",
    "        simulator_graphics=do_mpc.graphics.Graphics(simulator.data)\n",
    "        fig, ax = plt.subplots(7, sharex=True, figsize=(16,9))\n",
    "        fig.align_ylabels()\n",
    "        for g in [simulator_graphics,mpc_graphics]:\n",
    "            g.add_line(var_type='_x',var_name='xc',axis=ax[0])\n",
    "            g.add_line(var_type='_x',var_name='yc',axis=ax[1])\n",
    "            g.add_line(var_type='_x',var_name='v',axis=ax[2])\n",
    "            g.add_line(var_type='_u',var_name='a',axis=ax[3])\n",
    "            g.add_line(var_type='_u',var_name='ω',axis=ax[4])\n",
    "            g.add_line(var_type='_x',var_name='θ',axis=ax[5])\n",
    "            g.add_line(var_type='_x',var_name='ψ',axis=ax[6])\n",
    "        ax[0].set_ylabel('xc')\n",
    "        ax[1].set_ylabel('yc')\n",
    "        ax[2].set_ylabel('v')\n",
    "        ax[3].set_ylabel('a')\n",
    "        ax[4].set_ylabel('ω')\n",
    "        ax[5].set_ylabel('θ')\n",
    "        ax[6].set_ylabel('ψ')\n",
    "        ax[6].set_xlabel('t')'''\n",
    "    mpc.reset_history()\n",
    "    N_u=N\n",
    "    for j in range(N_u):\n",
    "        u0=mpc.make_step(x_0)\n",
    "        x_0=simulator.make_step(u0)\n",
    "        #if simulator.data['_x','xc',-1][-1]>=target:\n",
    "         #   break\n",
    "        #x_0=estimator.make_step(y_0)\n",
    "    '''\n",
    "    if i==100:\n",
    "        mpc_graphics.plot_predictions(t_ind=0)\n",
    "        simulator_graphics.plot_results()\n",
    "        simulator_graphics.reset_axes()'''\n",
    "    x=np.array(vertcat(x,simulator.data['_x','xc',-1]))\n",
    "    y=np.array(vertcat(y,simulator.data['_x','yc',-1]))\n",
    "    #z=vertcat(z,simulator.data['_x','θ',-1])\n",
    "    if x_0[0]>=np.pi:\n",
    "        return x,y,x_0\n",
    "    else:\n",
    "        #x_0=simulator.data['_x'][-1]\n",
    "        return control(x_0,i+1,x,y)"
   ]
  },
  {
   "cell_type": "code",
   "execution_count": 4,
   "metadata": {},
   "outputs": [],
   "source": [
    "%%capture [--no-stderr]\n",
    "x_0=np.array([[0],[0],[0],[0.001],[np.pi/2],[0],[0],[0],[0]])\n",
    "#initial condition on theta\n",
    "x=np.zeros((1,1))\n",
    "y=np.zeros((1,1))\n",
    "(xx,yy,x_0)=control(x_0,0,x,y)"
   ]
  },
  {
   "cell_type": "code",
   "execution_count": 5,
   "metadata": {
    "scrolled": true
   },
   "outputs": [
    {
     "data": {
      "image/png": "[encoded data removed]",
      "text/plain": [
       "<Figure size 432x288 with 1 Axes>"
      ]
     },
     "metadata": {
      "needs_background": "light"
     },
     "output_type": "display_data"
    }
   ],
   "source": [
    "plt.plot(xx,yy)\n",
    "plt.grid()\n",
    "plt.show()"
   ]
  },
  {
   "cell_type": "code",
   "execution_count": null,
   "metadata": {},
   "outputs": [],
   "source": []
  }
 ],
 "metadata": {
  "kernelspec": {
   "display_name": "Python 3",
   "language": "python",
   "name": "python3"
  },
  "language_info": {
   "codemirror_mode": {
    "name": "ipython",
    "version": 3
   },
   "file_extension": ".py",
   "mimetype": "text/x-python",
   "name": "python",
   "nbconvert_exporter": "python",
   "pygments_lexer": "ipython3",
   "version": "3.8.3"
  },
  "widgets": {
   "application/vnd.jupyter.widget-state+json": {
    "state": {},
    "version_major": 2,
    "version_minor": 0
   }
  }
 },
 "nbformat": 4,
 "nbformat_minor": 4
}
